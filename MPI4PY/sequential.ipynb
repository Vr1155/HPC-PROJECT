{
 "cells": [
  {
   "cell_type": "markdown",
   "metadata": {},
   "source": [
    "# Execution times of sequential sorting algorithms."
   ]
  },
  {
   "cell_type": "markdown",
   "metadata": {},
   "source": [
    "## Bubble Sort (Sequential)"
   ]
  },
  {
   "cell_type": "code",
   "execution_count": 56,
   "metadata": {},
   "outputs": [],
   "source": [
    "def bubbleSort(arr):\n",
    "    n = len(arr)\n",
    "    for i in range(n-1):\n",
    "        swapped = False\n",
    "        for j in range(0, n-i-1):\n",
    "            if arr[j] > arr[j+1]:\n",
    "                swapped = True\n",
    "                arr[j], arr[j+1] = arr[j+1], arr[j]\n",
    "        \n",
    "        if not swapped: \n",
    "            return"
   ]
  },
  {
   "cell_type": "markdown",
   "metadata": {},
   "source": [
    "- Time Complexity: O(n^2)\n",
    "- Space Complexity: O(1)"
   ]
  },
  {
   "cell_type": "markdown",
   "metadata": {},
   "source": [
    "## Importing Libaries:"
   ]
  },
  {
   "cell_type": "code",
   "execution_count": 57,
   "metadata": {},
   "outputs": [],
   "source": [
    "import numpy as np\n",
    "# generate random integer values\n",
    "from numpy.random import seed\n",
    "from numpy.random import randint"
   ]
  },
  {
   "cell_type": "markdown",
   "metadata": {},
   "source": [
    "## Populating 3 arrays with 1000, 10000 and 100000 random integers respectively:"
   ]
  },
  {
   "cell_type": "code",
   "execution_count": 58,
   "metadata": {},
   "outputs": [
    {
     "name": "stdout",
     "output_type": "stream",
     "text": [
      "length of 1st array =  100\n",
      "length of 2nd array =  1000\n",
      "length of 3rd array =  10000\n",
      "1st Array: [ 38 236 909  73 768 906 716 646 848 961 145 130 973 584 750 509 391 282\n",
      " 179 277 255 358 915 469 908 253 491 669 926 399 563 581 216 984 754 504\n",
      " 479 865  87 142 394   8 320 830 535 314 514 897 317 210 265 729 654 628\n",
      " 432 634 457 543  72 388 455 918 562 314 516 965 793 498  44 589  27 821\n",
      " 337 622 884 298 467  16  65 197  26 368 739 472 904 283 666 617  23 778\n",
      " 708 127 280 382 357 156 934 314 596 167]\n"
     ]
    }
   ],
   "source": [
    "\n",
    "# seed random number generator\n",
    "seed(1)\n",
    "\n",
    "array_100 = randint(1, 1000, 100)\n",
    "array_1000 = randint(1, 1000, 1000)\n",
    "array_10000 = randint(1, 1000, 10000)\n",
    "\n",
    "print(\"length of 1st array = \", len(array_100))\n",
    "print(\"length of 2nd array = \", len(array_1000))\n",
    "print(\"length of 3rd array = \", len(array_10000))\n",
    "\n",
    "print(\"1st Array:\", array_100)"
   ]
  },
  {
   "cell_type": "markdown",
   "metadata": {},
   "source": [
    "### Time taken to bubblesort an array with 100 elements:"
   ]
  },
  {
   "cell_type": "code",
   "execution_count": 59,
   "metadata": {},
   "outputs": [
    {
     "name": "stdout",
     "output_type": "stream",
     "text": [
      "Total runtime of the program to bubblesort 100 array elements is 0.0016995000187307596 seconds\n",
      "1st Array: [  8  16  23  26  27  38  44  65  72  73  87 127 130 142 145 156 167 179\n",
      " 197 210 216 236 253 255 265 277 280 282 283 298 314 314 314 317 320 337\n",
      " 357 358 368 382 388 391 394 399 432 455 457 467 469 472 479 491 498 504\n",
      " 509 514 516 535 543 562 563 581 584 589 596 617 622 628 634 646 654 666\n",
      " 669 708 716 729 739 750 754 768 778 793 821 830 848 865 884 897 904 906\n",
      " 908 909 915 918 926 934 961 965 973 984]\n"
     ]
    }
   ],
   "source": [
    "from time import perf_counter\n",
    "begin = perf_counter()\n",
    "\n",
    "bubbleSort(array_100)\n",
    "\n",
    "end = perf_counter()\n",
    "\n",
    "print(f\"Total runtime of the program to bubblesort 100 array elements is {end - begin} seconds\")\n",
    "\n",
    "print(\"1st Array:\", array_100)"
   ]
  },
  {
   "cell_type": "markdown",
   "metadata": {},
   "source": [
    "### Time taken to bubblesort an array with 1000 elements:"
   ]
  },
  {
   "cell_type": "code",
   "execution_count": 60,
   "metadata": {},
   "outputs": [
    {
     "name": "stdout",
     "output_type": "stream",
     "text": [
      "Total runtime of the program to bubblesort 1000 array elements is 0.182291900011478 seconds\n"
     ]
    }
   ],
   "source": [
    "begin = perf_counter()\n",
    "\n",
    "bubbleSort(array_1000)\n",
    "\n",
    "end = perf_counter()\n",
    "\n",
    "print(f\"Total runtime of the program to bubblesort 1000 array elements is {end - begin} seconds\")"
   ]
  },
  {
   "cell_type": "markdown",
   "metadata": {},
   "source": [
    "### Time taken to bubblesort an array with 10000 elements:"
   ]
  },
  {
   "cell_type": "code",
   "execution_count": 61,
   "metadata": {},
   "outputs": [
    {
     "name": "stdout",
     "output_type": "stream",
     "text": [
      "Total runtime of the program to bubblesort 10000 array elements is 16.831514799996512 seconds\n"
     ]
    }
   ],
   "source": [
    "begin = perf_counter()\n",
    "\n",
    "bubbleSort(array_10000)\n",
    "\n",
    "end = perf_counter()\n",
    "\n",
    "print(f\"Total runtime of the program to bubblesort 10000 array elements is {end - begin} seconds\")"
   ]
  },
  {
   "cell_type": "markdown",
   "metadata": {},
   "source": [
    "## Merge Sort (Sequential):"
   ]
  },
  {
   "cell_type": "code",
   "execution_count": 62,
   "metadata": {},
   "outputs": [],
   "source": [
    "def merge(arr, l, m, r):\n",
    "    n1 = m - l + 1\n",
    "    n2 = r - m\n",
    "    L = [0] * (n1)\n",
    "    R = [0] * (n2)\n",
    "    for i in range(0, n1):\n",
    "        L[i] = arr[l + i]\n",
    "    for j in range(0, n2):\n",
    "        R[j] = arr[m + 1 + j]\n",
    "    i = 0    \n",
    "    j = 0    \n",
    "    k = l    \n",
    "    while i < n1 and j < n2:\n",
    "        if L[i] <= R[j]:\n",
    "            arr[k] = L[i]\n",
    "            i += 1\n",
    "        else:\n",
    "            arr[k] = R[j]\n",
    "            j += 1\n",
    "        k += 1\n",
    "    while i < n1:\n",
    "        arr[k] = L[i]\n",
    "        i += 1\n",
    "        k += 1\n",
    "    while j < n2:\n",
    "        arr[k] = R[j]\n",
    "        j += 1\n",
    "        k += 1\n",
    " \n",
    "def mergeSort(arr, l, r):\n",
    "    if l < r:\n",
    "        m = l+(r-l)//2\n",
    "        mergeSort(arr, l, m)\n",
    "        mergeSort(arr, m+1, r)\n",
    "        merge(arr, l, m, r)"
   ]
  },
  {
   "cell_type": "markdown",
   "metadata": {},
   "source": [
    "## Populating 3 arrays with 1000, 10000 and 100000 random integers respectively:"
   ]
  },
  {
   "cell_type": "code",
   "execution_count": 63,
   "metadata": {},
   "outputs": [
    {
     "name": "stdout",
     "output_type": "stream",
     "text": [
      "length of 1st array =  100\n",
      "length of 2nd array =  1000\n",
      "length of 3rd array =  10000\n",
      "1st Array: [169 528 494 585 535 300 467  76 361 264 675 434 608 588 726  48 832 288\n",
      " 731 405 125 629 806 680 196 103 773 939 876  52 360 551 546 571 893 256\n",
      " 324 326  89 709 303 455 352 212 122  32 451 593 565 239 973  51 133 731\n",
      " 320 208 562 808 943 649 435 494 507 272 746 494 393 760 402 919 761 507\n",
      " 886 586 698 874 367 765 475 447  84  97 556 801 539 499 905 589 767 139\n",
      " 809  35 317 650 759 998 839  87 455  20]\n"
     ]
    }
   ],
   "source": [
    "\n",
    "# seed random number generator\n",
    "seed(2)\n",
    "\n",
    "array_100 = randint(1, 1000, 100)\n",
    "array_1000 = randint(1, 1000, 1000)\n",
    "array_10000 = randint(1, 1000, 10000)\n",
    "\n",
    "print(\"length of 1st array = \", len(array_100))\n",
    "print(\"length of 2nd array = \", len(array_1000))\n",
    "print(\"length of 3rd array = \", len(array_10000))\n",
    "\n",
    "print(\"1st Array:\", array_100)"
   ]
  },
  {
   "cell_type": "markdown",
   "metadata": {},
   "source": [
    "### Time taken to mergesort an array with 100 elements:"
   ]
  },
  {
   "cell_type": "code",
   "execution_count": 64,
   "metadata": {},
   "outputs": [
    {
     "name": "stdout",
     "output_type": "stream",
     "text": [
      "Total runtime of the program to mergesort 100 array elements is 0.0003249000001233071 seconds\n",
      "1st Array: [ 20  32  35  48  51  52  76  84  87  89  97 103 122 125 133 139 169 196\n",
      " 208 212 239 256 264 272 288 300 303 317 320 324 326 352 360 361 367 393\n",
      " 402 405 434 435 447 451 455 455 467 475 494 494 494 499 507 507 528 535\n",
      " 539 546 551 556 562 565 571 585 586 588 589 593 608 629 649 650 675 680\n",
      " 698 709 726 731 731 746 759 760 761 765 767 773 801 806 808 809 832 839\n",
      " 874 876 886 893 905 919 939 943 973 998]\n"
     ]
    }
   ],
   "source": [
    "from time import perf_counter\n",
    "begin = perf_counter()\n",
    "\n",
    "mergeSort(array_100, 0, len(array_100) - 1)\n",
    "\n",
    "end = perf_counter()\n",
    "\n",
    "print(f\"Total runtime of the program to mergesort 100 array elements is {end - begin} seconds\")\n",
    "\n",
    "print(\"1st Array:\", array_100)"
   ]
  },
  {
   "cell_type": "markdown",
   "metadata": {},
   "source": [
    "### Time taken to mergesort an array with 1000 elements:"
   ]
  },
  {
   "cell_type": "code",
   "execution_count": 65,
   "metadata": {},
   "outputs": [
    {
     "name": "stdout",
     "output_type": "stream",
     "text": [
      "Total runtime of the program to mergesort 1000 array elements is 0.003984299983130768 seconds\n"
     ]
    }
   ],
   "source": [
    "from time import perf_counter\n",
    "begin = perf_counter()\n",
    "\n",
    "mergeSort(array_1000, 0, len(array_1000) - 1)\n",
    "\n",
    "end = perf_counter()\n",
    "\n",
    "print(f\"Total runtime of the program to mergesort 1000 array elements is {end - begin} seconds\")"
   ]
  },
  {
   "cell_type": "markdown",
   "metadata": {},
   "source": [
    "### Time taken to mergesort an array with 10000 elements:"
   ]
  },
  {
   "cell_type": "code",
   "execution_count": 66,
   "metadata": {},
   "outputs": [
    {
     "name": "stdout",
     "output_type": "stream",
     "text": [
      "Total runtime of the program to mergesort 10000 array elements is 0.04725829997914843 seconds\n"
     ]
    }
   ],
   "source": [
    "from time import perf_counter\n",
    "begin = perf_counter()\n",
    "\n",
    "mergeSort(array_10000, 0, len(array_10000) - 1)\n",
    "\n",
    "end = perf_counter()\n",
    "\n",
    "print(f\"Total runtime of the program to mergesort 10000 array elements is {end - begin} seconds\")"
   ]
  },
  {
   "cell_type": "markdown",
   "metadata": {},
   "source": [
    "## Quick Sort (Sequential):"
   ]
  },
  {
   "cell_type": "code",
   "execution_count": 67,
   "metadata": {},
   "outputs": [],
   "source": [
    "def partition(array, low, high):\n",
    "    pivot = array[high]\n",
    "    i = low - 1\n",
    "    for j in range(low, high):\n",
    "        if array[j] <= pivot:\n",
    "            i = i + 1\n",
    "            (array[i], array[j]) = (array[j], array[i])\n",
    "    (array[i + 1], array[high]) = (array[high], array[i + 1])\n",
    "    return i + 1 \n",
    "\n",
    "def quickSort(array, low, high):\n",
    "    if low < high:\n",
    "        pi = partition(array, low, high)\n",
    "        quickSort(array, low, pi - 1)\n",
    "        quickSort(array, pi + 1, high)"
   ]
  },
  {
   "cell_type": "markdown",
   "metadata": {},
   "source": [
    "## Populating 3 arrays with 1000, 10000 and 100000 random integers respectively:"
   ]
  },
  {
   "cell_type": "code",
   "execution_count": 68,
   "metadata": {},
   "outputs": [
    {
     "name": "stdout",
     "output_type": "stream",
     "text": [
      "length of 1st array =  100\n",
      "length of 2nd array =  1000\n",
      "length of 3rd array =  10000\n",
      "1st Array: [875 665 250 644 953 969 257 790 660 715 876 682 651 918 120 423 481 661\n",
      " 941 606 424 399 505 539 338 475 663 835 259 960 317 642 948 859 582 873\n",
      " 623 610 414 619 153 508 831 520 172 546 380 336 177 806  21 863 562 406\n",
      " 384 719 501 541 888 567   1 705 275 373 960 678 185 953 968 166 766 687\n",
      " 546 114   2 854 118 888 971 748 893 997 612 732 913 512 849 673 913 275\n",
      " 844 184 865 224 142 422 415 561 958 290]\n"
     ]
    }
   ],
   "source": [
    "\n",
    "# seed random number generator\n",
    "seed(3)\n",
    "\n",
    "array_100 = randint(1, 1000, 100)\n",
    "array_1000 = randint(1, 1000, 1000)\n",
    "array_10000 = randint(1, 1000, 10000)\n",
    "\n",
    "print(\"length of 1st array = \", len(array_100))\n",
    "print(\"length of 2nd array = \", len(array_1000))\n",
    "print(\"length of 3rd array = \", len(array_10000))\n",
    "\n",
    "print(\"1st Array:\", array_100)"
   ]
  },
  {
   "cell_type": "markdown",
   "metadata": {},
   "source": [
    "### Time taken to quicksort an array with 100 elements:"
   ]
  },
  {
   "cell_type": "code",
   "execution_count": 69,
   "metadata": {},
   "outputs": [
    {
     "name": "stdout",
     "output_type": "stream",
     "text": [
      "Total runtime of the program to quicksort 100 array elements is 0.00022620000527240336 seconds\n",
      "1st Array: [  1   2  21 114 118 120 142 153 166 172 177 184 185 224 250 257 259 275\n",
      " 275 290 317 336 338 373 380 384 399 406 414 415 422 423 424 475 481 501\n",
      " 505 508 512 520 539 541 546 546 561 562 567 582 606 610 612 619 623 642\n",
      " 644 651 660 661 663 665 673 678 682 687 705 715 719 732 748 766 790 806\n",
      " 831 835 844 849 854 859 863 865 873 875 876 888 888 893 913 913 918 941\n",
      " 948 953 953 958 960 960 968 969 971 997]\n"
     ]
    }
   ],
   "source": [
    "from time import perf_counter\n",
    "begin = perf_counter()\n",
    "\n",
    "quickSort(array_100, 0, len(array_100) - 1)\n",
    "\n",
    "end = perf_counter()\n",
    "\n",
    "print(f\"Total runtime of the program to quicksort 100 array elements is {end - begin} seconds\")\n",
    "\n",
    "print(\"1st Array:\", array_100)"
   ]
  },
  {
   "cell_type": "markdown",
   "metadata": {},
   "source": [
    "### Time taken to quicksort an array with 1000 elements:"
   ]
  },
  {
   "cell_type": "code",
   "execution_count": 70,
   "metadata": {},
   "outputs": [
    {
     "name": "stdout",
     "output_type": "stream",
     "text": [
      "Total runtime of the program to quicksort 1000 array elements is 0.004599400010192767 seconds\n"
     ]
    }
   ],
   "source": [
    "from time import perf_counter\n",
    "begin = perf_counter()\n",
    "\n",
    "quickSort(array_1000, 0, len(array_1000) - 1)\n",
    "\n",
    "end = perf_counter()\n",
    "\n",
    "print(f\"Total runtime of the program to quicksort 1000 array elements is {end - begin} seconds\")"
   ]
  },
  {
   "cell_type": "markdown",
   "metadata": {},
   "source": [
    "### Time taken to quicksort an array with 10000 elements:"
   ]
  },
  {
   "cell_type": "code",
   "execution_count": 71,
   "metadata": {},
   "outputs": [
    {
     "name": "stdout",
     "output_type": "stream",
     "text": [
      "Total runtime of the program to quicksort 10000 array elements is 0.05758969997987151 seconds\n"
     ]
    }
   ],
   "source": [
    "from time import perf_counter\n",
    "begin = perf_counter()\n",
    "\n",
    "quickSort(array_10000, 0, len(array_10000) - 1)\n",
    "\n",
    "end = perf_counter()\n",
    "\n",
    "print(f\"Total runtime of the program to quicksort 10000 array elements is {end - begin} seconds\")"
   ]
  }
 ],
 "metadata": {
  "kernelspec": {
   "display_name": "Python 3 (ipykernel)",
   "language": "python",
   "name": "python3"
  },
  "language_info": {
   "codemirror_mode": {
    "name": "ipython",
    "version": 3
   },
   "file_extension": ".py",
   "mimetype": "text/x-python",
   "name": "python",
   "nbconvert_exporter": "python",
   "pygments_lexer": "ipython3",
   "version": "3.11.7"
  }
 },
 "nbformat": 4,
 "nbformat_minor": 4
}
